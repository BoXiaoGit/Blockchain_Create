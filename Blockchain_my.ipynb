{
 "cells": [
  {
   "cell_type": "markdown",
   "metadata": {},
   "source": [
    "# blockchain from the scratch\n",
    "\n",
    "In this file, the blockchain is created for transactions record and the blocks can be mined through the flask based web server."
   ]
  },
  {
   "cell_type": "markdown",
   "metadata": {},
   "source": [
    "## the necessary packages"
   ]
  },
  {
   "cell_type": "code",
   "execution_count": 3,
   "metadata": {},
   "outputs": [],
   "source": [
    "import datetime\n",
    "import hashlib\n",
    "import json\n",
    "from flask import Flask, jsonify, request\n",
    "import requests\n",
    "from uuid import uuid4\n",
    "from urllib.parse import urlparse"
   ]
  },
  {
   "cell_type": "markdown",
   "metadata": {},
   "source": [
    "## define the blockchain class and related operations"
   ]
  },
  {
   "cell_type": "code",
   "execution_count": null,
   "metadata": {},
   "outputs": [],
   "source": [
    "class Blockchain:\n",
    "    def __init__(self):\n",
    "        self.chain = []\n",
    "        self.transactions = []\n",
    "        self.creat_block(proof = 1, previous_hash = '0')\n",
    "        self.node = set()\n",
    "    \n",
    "    def create_block(self, proof, previous_hash):\n",
    "        block = {'index': len(self.chain) + 1,\n",
    "                 'timestamp': str(datetime.datetime.now()),\n",
    "                 'proof': proof,\n",
    "                 'previous_hash': previous_hash,\n",
    "                 'transactions': self.transactions}\n",
    "        self.transactions = []\n",
    "        self.chain.append(block)\n",
    "        return block\n",
    "    \n",
    "    def add_transactions(self, sender, receiver, amount):\n",
    "        self.transactions.append({'sender': sender,\n",
    "                                  'receiver': receiver,\n",
    "                                  'amount': amount})\n",
    "        previous_block = self.get_previous_block()\n",
    "        return previous_block['index'] + 1\n",
    "    \n",
    "    def add_node(self, address):\n",
    "        parse_url = urlparse(address)\n",
    "        self.nodes.add parse_url.netloc)\n",
    "        \n",
    "    def replace_chain(self):\n",
    "        network = self.nodes\n",
    "        longest_chain = None\n",
    "        max_length = len(self.chain)\n",
    "        for node in network:\n",
    "            response = requests.get(f'http://{node}/get_chain')\n",
    "            if response.status_code == 200:\n",
    "                length = reponse.json()['length']\n",
    "                chain = reponse.json()['chain']\n",
    "                if length > max_length and self.is_chain_valid(chain):\n",
    "                    max_length = length\n",
    "                    longest_chain = chain\n",
    "                    \n",
    "        if longest_chain:\n",
    "            self.chain = longest_chain\n",
    "            return True\n",
    "        return False\n",
    "                    "
   ]
  },
  {
   "cell_type": "code",
   "execution_count": 18,
   "metadata": {},
   "outputs": [],
   "source": [
    "node_address = str(uuid4()).replace('-', '')"
   ]
  },
  {
   "cell_type": "code",
   "execution_count": 19,
   "metadata": {},
   "outputs": [
    {
     "data": {
      "text/plain": [
       "'26daf836b63f466abc84ff75d880caee'"
      ]
     },
     "execution_count": 19,
     "metadata": {},
     "output_type": "execute_result"
    }
   ],
   "source": [
    "@app.route('/mine_block', methods = ['GET'])\n",
    "def mine_block():\n",
    "    previous_block = blockchain.get_previous_block()\n",
    "    previous_proof = previous_block['proof']\n",
    "    proof = blockchain.proof_of_work(previous_proof)\n",
    "    previous_hash = blockchain.hash(previous_block)\n",
    "    blockchain.add_transaction(sender = node_address, receiver = 'receiver', amount = 1)\n",
    "    block = blockchain.creat_block(proof, previous_hash)    \n",
    "    response = {'message': 'Congratulation, you just mined a block!', \n",
    "                'index': block['index'],\n",
    "                'timestamp': block['timestamp'],\n",
    "                'proof': block['proof'],\n",
    "                'previous_hash': block['previous_hash'],\n",
    "                'transactions': block['transactions']}\n",
    "    return jsonify(response), 200\n",
    "\n",
    "@app.route('/add_transaction', methods = ['POST'])\n",
    "def add_transactoin():\n",
    "    json = request.get_json()\n",
    "    transaction_key = ['sender', 'receiver', 'amount']\n",
    "    if not all (key in json for key in transaction_key):\n",
    "        return 'Some elements of the transaction are missing', 400\n",
    "    index = blockchain.add_transaction(json['sender'], json['receiver'], json['amount'])\n",
    "    response = {'message': f'this transaction will be added to block {index}' }\n",
    "    \n",
    "@app.route('/connect_node', methods = ['POST'])\n",
    "def connect_node():\n",
    "    json = request.json()\n",
    "    nodes = json.get('nodes')\n",
    "    if nodes is None:\n",
    "        return 'no nodes', 400\n",
    "    for node in nodes:\n",
    "        add_node(node)\n",
    "    response = {'message': 'All the nodes are now connected!',\n",
    "                'total_nodes': list(blockchain.nodes)}    \n",
    "    return jsonify(response), 201\n",
    "\n",
    "@app.route('/replace_chain', methods = ['GET'])\n",
    "def replace_chain():\n",
    "    is_chain_replaced = blockchain.replace_chain()\n",
    "    if is_chain_replaced:\n",
    "        response = {'message': 'The chain is replaced.',\n",
    "                    'new_chain': blockchain.chain}\n",
    "    else:\n",
    "        response = {'message': 'All good, the chain is the longest.',\n",
    "                    'actual_chain': blockchain.chain}\n",
    "    return jsonfity(response), 200\n",
    "    "
   ]
  },
  {
   "cell_type": "code",
   "execution_count": 20,
   "metadata": {},
   "outputs": [
    {
     "data": {
      "text/plain": [
       "'26daf836b63f466abc84ff75d880caee'"
      ]
     },
     "execution_count": 20,
     "metadata": {},
     "output_type": "execute_result"
    }
   ],
   "source": [
    "node_address"
   ]
  },
  {
   "cell_type": "code",
   "execution_count": 21,
   "metadata": {},
   "outputs": [
    {
     "data": {
      "text/plain": [
       "32"
      ]
     },
     "execution_count": 21,
     "metadata": {},
     "output_type": "execute_result"
    }
   ],
   "source": [
    "len(node_address)"
   ]
  },
  {
   "cell_type": "code",
   "execution_count": 22,
   "metadata": {},
   "outputs": [
    {
     "data": {
      "text/plain": [
       "65536"
      ]
     },
     "execution_count": 22,
     "metadata": {},
     "output_type": "execute_result"
    }
   ],
   "source": [
    "16**4"
   ]
  },
  {
   "cell_type": "code",
   "execution_count": 2,
   "metadata": {},
   "outputs": [
    {
     "data": {
      "text/plain": [
       "1009.9849999999999"
      ]
     },
     "execution_count": 2,
     "metadata": {},
     "output_type": "execute_result"
    }
   ],
   "source": [
    "1841.66/2 + 386.25/2 - 49/2 - 158.94/2"
   ]
  },
  {
   "cell_type": "code",
   "execution_count": 6,
   "metadata": {},
   "outputs": [
    {
     "data": {
      "text/plain": [
       "5475000.0"
      ]
     },
     "execution_count": 6,
     "metadata": {},
     "output_type": "execute_result"
    }
   ],
   "source": [
    "1.5/100*10000*1000*0.05*365*2"
   ]
  },
  {
   "cell_type": "code",
   "execution_count": 4,
   "metadata": {},
   "outputs": [
    {
     "data": {
      "text/plain": [
       "3000000"
      ]
     },
     "execution_count": 4,
     "metadata": {},
     "output_type": "execute_result"
    }
   ],
   "source": [
    "2000*1500\n"
   ]
  },
  {
   "cell_type": "code",
   "execution_count": null,
   "metadata": {},
   "outputs": [],
   "source": []
  }
 ],
 "metadata": {
  "kernelspec": {
   "display_name": "Python 3",
   "language": "python",
   "name": "python3"
  },
  "language_info": {
   "codemirror_mode": {
    "name": "ipython",
    "version": 3
   },
   "file_extension": ".py",
   "mimetype": "text/x-python",
   "name": "python",
   "nbconvert_exporter": "python",
   "pygments_lexer": "ipython3",
   "version": "3.8.5"
  }
 },
 "nbformat": 4,
 "nbformat_minor": 4
}
